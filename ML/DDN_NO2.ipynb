{
 "cells": [
  {
   "cell_type": "markdown",
   "id": "82654ec3",
   "metadata": {},
   "source": [
    "# Machine Learning, DNN for regression\n",
    "\n",
    "### Description of the dataset NO2\n",
    "The dataset that we are going to use for this lesson was obtained from the StatLib repository. http://lib.stat.cmu.edu/datasets/ (NO2).\n",
    "The data are a subsample of 500 observations from a data set that originate in a study where air pollution at a road is related to traffic volume and meteorological variables, collected by the Norwegian Public Roads Administration. The response variable (column 1) consist of hourly values of the logarithm of the concentration of NO2 (particles), measured at Alnabru in Oslo, Norway, between October 2001 and August 2003. The predictor variables (columns 2 to 8) are the logarithm of the number of cars per hour, temperature $2$ meters above ground (degree C), wind speed (meters/second), the temperature difference between $25$ and $2$ meters above ground (degree C), wind direction (degrees between 0 and 360), hour of day and day number from October 1 2001. Submitted by Magne Aldrin (magne.aldrin@nr.no). [28/Jul/04] (19kbytes) \n",
    "\n",
    "\n",
    "Target variable:\n",
    "- NO2 concentration (log) [lno2]  \n",
    "\n",
    "Features:    \n",
    "- log of car per hour [lc] \n",
    "\n",
    "- temperature 2 meters above the ground (degree C)[t2] \n",
    "\n",
    "- wind speed (meters/seconds) [ws]\n",
    "\n",
    "- temperature difference between 25 meters and 2 meters above the ground (degree C) [td25] \n",
    "\n",
    "- wind direction (degrees between 0 and 360) [wd] \n",
    "\n",
    "- hour of day [hd] average house occupancy\n",
    "\n",
    "- day number from Oct. 1 2001 [dn] "
   ]
  },
  {
   "cell_type": "code",
   "execution_count": null,
   "id": "ed82b9c4",
   "metadata": {},
   "outputs": [
    {
     "ename": "",
     "evalue": "",
     "output_type": "error",
     "traceback": [
      "\u001b[1;31mRunning cells with 'Python 3.10.12' requires the ipykernel package.\n",
      "\u001b[1;31mRun the following command to install 'ipykernel' into the Python environment. \n",
      "\u001b[1;31mCommand: '/bin/python3 -m pip install ipykernel -U --user --force-reinstall'"
     ]
    }
   ],
   "source": [
    "import numpy as np \n",
    "import pandas as pd \n",
    "import seaborn as sns\n",
    "import matplotlib.pyplot as plt\n",
    "from sklearn.preprocessing import MinMaxScaler\n",
    "from sklearn.model_selection import train_test_split\n",
    "from math import sqrt\n",
    "from sklearn.metrics import mean_squared_error\n",
    "from keras.models import Sequential\n",
    "from keras.layers import Dense\n",
    "from keras import metrics"
   ]
  },
  {
   "cell_type": "markdown",
   "id": "63af1ab7",
   "metadata": {},
   "source": [
    "### ASSIGNING LABELS TO FEATURES\n",
    "We assign the labels to the corresponding columns to have a clean representation of the dataset \n"
   ]
  },
  {
   "cell_type": "code",
   "execution_count": null,
   "id": "8c44875f",
   "metadata": {},
   "outputs": [
    {
     "ename": "",
     "evalue": "",
     "output_type": "error",
     "traceback": [
      "\u001b[1;31mRunning cells with 'Python 3.10.12' requires the ipykernel package.\n",
      "\u001b[1;31mRun the following command to install 'ipykernel' into the Python environment. \n",
      "\u001b[1;31mCommand: '/bin/python3 -m pip install ipykernel -U --user --force-reinstall'"
     ]
    }
   ],
   "source": [
    "features = ['lc', 't2', 'ws', 'td25', 'wd', 'hd', 'dn']"
   ]
  },
  {
   "cell_type": "markdown",
   "id": "67113644",
   "metadata": {},
   "source": [
    "### CREATE THE DNN LARGE NETWORK MODEL\n",
    "\n",
    "\n",
    "<img src=\"images/DNN-all.png\" alt=\"DNN Model Large\" width=\"500\"/>\n",
    "\n",
    "\n",
    "#### Create the network as indicated in the image above. All activation functions should be ReLU. Have a look at the slide for hints on the code to use. \n"
   ]
  },
  {
   "cell_type": "code",
   "execution_count": null,
   "id": "c61905b3",
   "metadata": {},
   "outputs": [
    {
     "ename": "",
     "evalue": "",
     "output_type": "error",
     "traceback": [
      "\u001b[1;31mRunning cells with 'Python 3.10.12' requires the ipykernel package.\n",
      "\u001b[1;31mRun the following command to install 'ipykernel' into the Python environment. \n",
      "\u001b[1;31mCommand: '/bin/python3 -m pip install ipykernel -U --user --force-reinstall'"
     ]
    }
   ],
   "source": [
    "def create_model_large():\n",
    "    model = Sequential()\n",
    "    model.add(Dense(128, input_dim=7, activation='relu'))\n",
    "    model.add(Dense(64, activation='relu'))\n",
    "    model.add(Dense(32, activation='relu'))\n",
    "    model.add(Dense(1, activation='sigmoid'))\n",
    "    return model\n"
   ]
  },
  {
   "cell_type": "markdown",
   "id": "d2609ee3",
   "metadata": {},
   "source": [
    "### CREATE THE TINY ANN MODEL\n",
    "\n",
    "#### Create an ANN with 1 layer containing 3 neurons (model tiny), alla activation functions should be ReLU."
   ]
  },
  {
   "cell_type": "code",
   "execution_count": null,
   "id": "0340343c",
   "metadata": {},
   "outputs": [
    {
     "ename": "",
     "evalue": "",
     "output_type": "error",
     "traceback": [
      "\u001b[1;31mRunning cells with 'Python 3.10.12' requires the ipykernel package.\n",
      "\u001b[1;31mRun the following command to install 'ipykernel' into the Python environment. \n",
      "\u001b[1;31mCommand: '/bin/python3 -m pip install ipykernel -U --user --force-reinstall'"
     ]
    }
   ],
   "source": [
    "def create_model_tiny():\n",
    "    model = Sequential()\n",
    "    model.add(Dense(3, input_dim=7, activation='relu'))  # 1 layer con 3 neuroni\n",
    "    model.add(Dense(1, activation='sigmoid'))  # Assumendo classificazione binaria\n",
    "    return model\n"
   ]
  },
  {
   "cell_type": "markdown",
   "id": "3926afbd",
   "metadata": {},
   "source": [
    "### CREATE THE SMALL ANN MODEL\n",
    "\n",
    "#### Create an ANN with 1 layer containing 10 neurons (model small), alla activation functions should be ReLU."
   ]
  },
  {
   "cell_type": "code",
   "execution_count": null,
   "id": "aa5704c9",
   "metadata": {},
   "outputs": [
    {
     "ename": "",
     "evalue": "",
     "output_type": "error",
     "traceback": [
      "\u001b[1;31mRunning cells with 'Python 3.10.12' requires the ipykernel package.\n",
      "\u001b[1;31mRun the following command to install 'ipykernel' into the Python environment. \n",
      "\u001b[1;31mCommand: '/bin/python3 -m pip install ipykernel -U --user --force-reinstall'"
     ]
    }
   ],
   "source": [
    "def create_model_small():\n",
    "    model = Sequential()\n",
    "    model.add(Dense(10, input_dim=7, activation='relu'))  # 1 layer con 10 neuroni\n",
    "    model.add(Dense(1, activation='sigmoid'))  # Assumendo classificazione binaria\n",
    "    return model\n"
   ]
  },
  {
   "cell_type": "markdown",
   "id": "cca7ade0",
   "metadata": {},
   "source": [
    "### CREATE THE MEDIUM DNN MODEL\n",
    "\n",
    "#### Create an DNN with 2 layers containing respectively 10 and 30 neurons (model medium), alla activation functions should be ReLU.\n"
   ]
  },
  {
   "cell_type": "code",
   "execution_count": null,
   "id": "2d91d294",
   "metadata": {},
   "outputs": [
    {
     "ename": "",
     "evalue": "",
     "output_type": "error",
     "traceback": [
      "\u001b[1;31mRunning cells with 'Python 3.10.12' requires the ipykernel package.\n",
      "\u001b[1;31mRun the following command to install 'ipykernel' into the Python environment. \n",
      "\u001b[1;31mCommand: '/bin/python3 -m pip install ipykernel -U --user --force-reinstall'"
     ]
    }
   ],
   "source": [
    "def create_model_medium():\n",
    "    model = Sequential()\n",
    "    model.add(Dense(10, input_dim=7, activation='relu'))  # 1° layer con 10 neuroni\n",
    "    model.add(Dense(30, activation='relu'))  # 2° layer con 30 neuroni\n",
    "    model.add(Dense(1, activation='sigmoid'))  # Assumendo classificazione binaria\n",
    "    return model\n"
   ]
  },
  {
   "cell_type": "markdown",
   "id": "d92883cd",
   "metadata": {},
   "source": [
    "### Evaluating the model\n",
    "\n",
    "The following functions computes the Root Mean Squared Error and the Normalized Root Mean Squared Error between the groud thruth (real) and inferred (pred) responses.  "
   ]
  },
  {
   "cell_type": "code",
   "execution_count": null,
   "id": "784118b3",
   "metadata": {},
   "outputs": [
    {
     "ename": "",
     "evalue": "",
     "output_type": "error",
     "traceback": [
      "\u001b[1;31mRunning cells with 'Python 3.10.12' requires the ipykernel package.\n",
      "\u001b[1;31mRun the following command to install 'ipykernel' into the Python environment. \n",
      "\u001b[1;31mCommand: '/bin/python3 -m pip install ipykernel -U --user --force-reinstall'"
     ]
    }
   ],
   "source": [
    "def RMSE(real, pred):\n",
    "    return sqrt(mean_squared_error(real, pred))\n",
    "\n",
    "def NRMSE(real, pred):\n",
    "    return sqrt(mean_squared_error(real, pred)/(real.max() - real.min()))"
   ]
  },
  {
   "cell_type": "markdown",
   "id": "a34190c8",
   "metadata": {},
   "source": [
    "### Loading  the data \n",
    "\n",
    "#### Using the panda library to load data, provide a descriptive summary"
   ]
  },
  {
   "cell_type": "code",
   "execution_count": null,
   "id": "e69e0f08",
   "metadata": {},
   "outputs": [
    {
     "ename": "",
     "evalue": "",
     "output_type": "error",
     "traceback": [
      "\u001b[1;31mRunning cells with 'Python 3.10.12' requires the ipykernel package.\n",
      "\u001b[1;31mRun the following command to install 'ipykernel' into the Python environment. \n",
      "\u001b[1;31mCommand: '/bin/python3 -m pip install ipykernel -U --user --force-reinstall'"
     ]
    }
   ],
   "source": [
    "# Load data\n",
    "df = pd.read_csv('NO2.csv', index_col=False)\n",
    "\n",
    "# Descriptive statistics summary\n",
    "df.describe()"
   ]
  },
  {
   "cell_type": "markdown",
   "id": "a5077d5e",
   "metadata": {},
   "source": [
    "### Visualzing the relationships among the features in the data\n",
    "\n",
    "#### Compute and visualize a correlation matring among the features (using the seaborn library)."
   ]
  },
  {
   "cell_type": "code",
   "execution_count": null,
   "id": "d0462cbc",
   "metadata": {},
   "outputs": [
    {
     "ename": "",
     "evalue": "",
     "output_type": "error",
     "traceback": [
      "\u001b[1;31mRunning cells with 'Python 3.10.12' requires the ipykernel package.\n",
      "\u001b[1;31mRun the following command to install 'ipykernel' into the Python environment. \n",
      "\u001b[1;31mCommand: '/bin/python3 -m pip install ipykernel -U --user --force-reinstall'"
     ]
    }
   ],
   "source": [
    "# Correlation matrix\n",
    "corrmat = df.corr()\n",
    "\n",
    "# Generate a mask for the upper triangle\n",
    "matrix = np.triu(corrmat)\n",
    "f, ax = plt.subplots(figsize=(12, 9))\n",
    "sns.set(font_scale=1)\n",
    "sns.heatmap(corrmat, vmin=-1, vmax=1, center= 0, square=True, annot=True, annot_kws={'size': 8}, mask=matrix, fmt='.2g', cmap= 'coolwarm')\n",
    "\n",
    "plt.show()"
   ]
  },
  {
   "cell_type": "markdown",
   "id": "38edb4c0",
   "metadata": {},
   "source": [
    "### Standizing the data\n",
    "\n",
    "#### Standardize features to have 0 mean, sigma 1 and range between -1 and 1.  Do not standardize the response."
   ]
  },
  {
   "cell_type": "code",
   "execution_count": null,
   "id": "c07e64fd",
   "metadata": {},
   "outputs": [
    {
     "ename": "",
     "evalue": "",
     "output_type": "error",
     "traceback": [
      "\u001b[1;31mRunning cells with 'Python 3.10.12' requires the ipykernel package.\n",
      "\u001b[1;31mRun the following command to install 'ipykernel' into the Python environment. \n",
      "\u001b[1;31mCommand: '/bin/python3 -m pip install ipykernel -U --user --force-reinstall'"
     ]
    }
   ],
   "source": [
    "# Standardizing data\n",
    "sc= MinMaxScaler(feature_range=(-1,1))\n",
    "\n",
    "for var in features:\n",
    "    if(var != 'lno2'):\n",
    "        df[var] = sc.fit_transform(df[var].values.reshape(-1, 1))\n"
   ]
  },
  {
   "cell_type": "markdown",
   "id": "e8e6a673",
   "metadata": {},
   "source": [
    "### Preparing the data for training, using validation set approach \n",
    "\n",
    "#### Remove labels and create the validation set."
   ]
  },
  {
   "cell_type": "code",
   "execution_count": null,
   "id": "fed6783e",
   "metadata": {},
   "outputs": [
    {
     "ename": "",
     "evalue": "",
     "output_type": "error",
     "traceback": [
      "\u001b[1;31mRunning cells with 'Python 3.10.12' requires the ipykernel package.\n",
      "\u001b[1;31mRun the following command to install 'ipykernel' into the Python environment. \n",
      "\u001b[1;31mCommand: '/bin/python3 -m pip install ipykernel -U --user --force-reinstall'"
     ]
    }
   ],
   "source": [
    "#NumPy representation of the data frame (removing labels)\n",
    "df = df.to_numpy() #df=df.values\n",
    "\n",
    "#divide predictors from features\n",
    "X = df[:, 1:8]\n",
    "y = df[:, 0]\n",
    "\n",
    "seed = 7\n",
    "np.random.seed(seed)\n",
    "\n",
    "# split dataset in 75% for traininig and 25% for testing (500 -> 375,125)\n",
    "X_train, X_test, y_train, y_test = train_test_split(X, y, test_size=0.25, random_state=seed)\n",
    "\n",
    "# split training in 70% for traininig and 30% for validating (375 -> 300,75)\n",
    "X_train, X_val, y_train, y_val = train_test_split(X_train, y_train, test_size=0.2, random_state=seed)\n",
    "\n",
    "# Model creation (choose between tiny, small, medium and large by using the appropriate function)\n",
    "model = create_model_tiny()\n",
    "model.compile(optimizer='adam', loss='mean_squared_error', metrics=['mean_absolute_error'])\n",
    "model.summary()"
   ]
  },
  {
   "cell_type": "markdown",
   "id": "cb1259b8",
   "metadata": {},
   "source": [
    "### Fit the DNN to the data"
   ]
  },
  {
   "cell_type": "code",
   "execution_count": null,
   "id": "f6e8c737",
   "metadata": {},
   "outputs": [
    {
     "ename": "",
     "evalue": "",
     "output_type": "error",
     "traceback": [
      "\u001b[1;31mRunning cells with 'Python 3.10.12' requires the ipykernel package.\n",
      "\u001b[1;31mRun the following command to install 'ipykernel' into the Python environment. \n",
      "\u001b[1;31mCommand: '/bin/python3 -m pip install ipykernel -U --user --force-reinstall'"
     ]
    }
   ],
   "source": [
    "history = model.fit(X_train, y_train, validation_data=(X_val, y_val), epochs=150, batch_size=32)"
   ]
  },
  {
   "cell_type": "markdown",
   "id": "41553e19",
   "metadata": {},
   "source": [
    "### Evaluate accuracy and loss of your model. This is how your plots should look like:\n",
    "<table><tr>\n",
    "<td> <img src=\"images/accuracy.png\" style=\"width: 500px;\"/> </td>\n",
    "<td> <img src=\"images/loss.png\" style=\"width: 500px;\"/> </td>\n",
    "</tr></table>"
   ]
  },
  {
   "cell_type": "code",
   "execution_count": null,
   "id": "1ee2d52e",
   "metadata": {},
   "outputs": [
    {
     "ename": "",
     "evalue": "",
     "output_type": "error",
     "traceback": [
      "\u001b[1;31mRunning cells with 'Python 3.10.12' requires the ipykernel package.\n",
      "\u001b[1;31mRun the following command to install 'ipykernel' into the Python environment. \n",
      "\u001b[1;31mCommand: '/bin/python3 -m pip install ipykernel -U --user --force-reinstall'"
     ]
    }
   ],
   "source": [
    "# Summarize history for accuracy\n",
    "plt.plot(history.history['mean_absolute_error'])\n",
    "plt.plot(history.history['val_mean_absolute_error'])\n",
    "plt.title('model accuracy')\n",
    "plt.ylabel('accuracy')\n",
    "plt.xlabel('epoch')\n",
    "plt.legend(['train', 'test'], loc='upper right')\n",
    "plt.show()"
   ]
  },
  {
   "cell_type": "code",
   "execution_count": null,
   "id": "12748206",
   "metadata": {},
   "outputs": [
    {
     "ename": "",
     "evalue": "",
     "output_type": "error",
     "traceback": [
      "\u001b[1;31mRunning cells with 'Python 3.10.12' requires the ipykernel package.\n",
      "\u001b[1;31mRun the following command to install 'ipykernel' into the Python environment. \n",
      "\u001b[1;31mCommand: '/bin/python3 -m pip install ipykernel -U --user --force-reinstall'"
     ]
    }
   ],
   "source": [
    "# Summarize history for loss\n",
    "plt.plot(history.history['loss'])\n",
    "plt.plot(history.history['val_loss'])\n",
    "plt.title('model loss')\n",
    "plt.ylabel('loss')\n",
    "plt.xlabel('epoch')\n",
    "plt.legend(['train', 'test'], loc='upper right')\n",
    "plt.show()"
   ]
  },
  {
   "cell_type": "markdown",
   "id": "2ef85c07",
   "metadata": {},
   "source": [
    "### Now evaluate the predictions of your model in terms of RMSE and NRMSE. You should obtain plots like these:\n",
    "<table><tr>\n",
    "<td> <img src=\"images/inference.png\" style=\"width: 500px;\"/> </td>\n",
    "<td> <img src=\"images/inference_diff.png\" style=\"width: 500px;\"/> </td>\n",
    "</tr></table>"
   ]
  },
  {
   "cell_type": "code",
   "execution_count": null,
   "id": "252cb0c3",
   "metadata": {},
   "outputs": [
    {
     "ename": "",
     "evalue": "",
     "output_type": "error",
     "traceback": [
      "\u001b[1;31mRunning cells with 'Python 3.10.12' requires the ipykernel package.\n",
      "\u001b[1;31mRun the following command to install 'ipykernel' into the Python environment. \n",
      "\u001b[1;31mCommand: '/bin/python3 -m pip install ipykernel -U --user --force-reinstall'"
     ]
    }
   ],
   "source": [
    "# Prediction\n",
    "pred = model.predict(X_test).reshape(1,-1)[0]\n",
    "\n",
    "rmse = RMSE(y_test, pred)\n",
    "nrmse = NRMSE(y_test, pred)\n",
    "\n",
    "\n",
    "print(\"rmse : \",rmse,\"  nrmse : \",nrmse)"
   ]
  },
  {
   "cell_type": "code",
   "execution_count": null,
   "id": "488c2f32",
   "metadata": {},
   "outputs": [
    {
     "ename": "",
     "evalue": "",
     "output_type": "error",
     "traceback": [
      "\u001b[1;31mRunning cells with 'Python 3.10.12' requires the ipykernel package.\n",
      "\u001b[1;31mRun the following command to install 'ipykernel' into the Python environment. \n",
      "\u001b[1;31mCommand: '/bin/python3 -m pip install ipykernel -U --user --force-reinstall'"
     ]
    }
   ],
   "source": [
    "my_x=np.arange(0,len(X_test[:,0]),1)\n",
    "\n",
    "fig = plt.figure(figsize=(20,10))\n",
    "plt.scatter(my_x, y_test, label='Real', color='blue', marker='o')\n",
    "plt.scatter(my_x, pred, label='Inference', color='red', marker='s')\n",
    "plt.title(f'Inference of log(NO2)  rmse: {rmse:.3f}, nrmse: {nrmse:.3f}')\n",
    "plt.ylabel('log(NO2)')\n",
    "plt.xlabel('readings (rows of file)')\n",
    "plt.grid()\n",
    "plt.legend()\n",
    "plt.show()"
   ]
  },
  {
   "cell_type": "code",
   "execution_count": null,
   "id": "17ad02fa",
   "metadata": {},
   "outputs": [
    {
     "ename": "",
     "evalue": "",
     "output_type": "error",
     "traceback": [
      "\u001b[1;31mRunning cells with 'Python 3.10.12' requires the ipykernel package.\n",
      "\u001b[1;31mRun the following command to install 'ipykernel' into the Python environment. \n",
      "\u001b[1;31mCommand: '/bin/python3 -m pip install ipykernel -U --user --force-reinstall'"
     ]
    }
   ],
   "source": [
    "fig = plt.figure(figsize=(20,10))\n",
    "my_d = abs(y_test-pred)\n",
    "\n",
    "plt.bar(my_x,my_d)\n",
    "plt.title(f'Inference of log(NO2) -- absolute difference between inference and ground truth rmse: {rmse:.3f}, nrmse: {nrmse:.3f}')\n",
    "plt.ylabel('absolute value of difference in inference [log(NO2)]')\n",
    "plt.xlabel('readings (rows of file)')\n",
    "plt.grid()\n",
    "plt.show()"
   ]
  }
 ],
 "metadata": {
  "kernelspec": {
   "display_name": "Python 3 (ipykernel)",
   "language": "python",
   "name": "python3"
  },
  "language_info": {
   "codemirror_mode": {
    "name": "ipython",
    "version": 3
   },
   "file_extension": ".py",
   "mimetype": "text/x-python",
   "name": "python",
   "nbconvert_exporter": "python",
   "pygments_lexer": "ipython3",
   "version": "3.10.12"
  }
 },
 "nbformat": 4,
 "nbformat_minor": 5
}
